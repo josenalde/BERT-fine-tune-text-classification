{
 "cells": [
  {
   "cell_type": "markdown",
   "id": "beef10fd",
   "metadata": {},
   "source": [
    "### Adapting a pre-trained model for a specific task (fine-tune). The pre-trained model is self-supervised and fine-tuned is supervised. For example, BERT has been trained over 3B words. These foundation models from openAI, Mistral, Antropic, Meta etc. are trained using specific and huge computer resources, not available for common users. A fine-tuned model, such as MRCP, has 3k examples"
   ]
  },
  {
   "cell_type": "markdown",
   "id": "2bf82f28",
   "metadata": {},
   "source": [
    "#### Let's fine-tune BERT for finding phishing URLs"
   ]
  },
  {
   "cell_type": "code",
   "execution_count": 4,
   "id": "df055e3b",
   "metadata": {},
   "outputs": [
    {
     "name": "stdout",
     "output_type": "stream",
     "text": [
      "Requirement already satisfied: datasets in c:\\users\\josen\\anaconda3\\envs\\tadsml\\lib\\site-packages (4.0.0)\n",
      "Requirement already satisfied: filelock in c:\\users\\josen\\anaconda3\\envs\\tadsml\\lib\\site-packages (from datasets) (3.18.0)\n",
      "Requirement already satisfied: numpy>=1.17 in c:\\users\\josen\\anaconda3\\envs\\tadsml\\lib\\site-packages (from datasets) (1.26.4)\n",
      "Requirement already satisfied: pyarrow>=15.0.0 in c:\\users\\josen\\anaconda3\\envs\\tadsml\\lib\\site-packages (from datasets) (16.1.0)\n",
      "Requirement already satisfied: dill<0.3.9,>=0.3.0 in c:\\users\\josen\\anaconda3\\envs\\tadsml\\lib\\site-packages (from datasets) (0.3.8)\n",
      "Requirement already satisfied: pandas in c:\\users\\josen\\anaconda3\\envs\\tadsml\\lib\\site-packages (from datasets) (2.2.3)\n",
      "Requirement already satisfied: requests>=2.32.2 in c:\\users\\josen\\anaconda3\\envs\\tadsml\\lib\\site-packages (from datasets) (2.32.3)\n",
      "Requirement already satisfied: tqdm>=4.66.3 in c:\\users\\josen\\anaconda3\\envs\\tadsml\\lib\\site-packages (from datasets) (4.67.1)\n",
      "Requirement already satisfied: xxhash in c:\\users\\josen\\anaconda3\\envs\\tadsml\\lib\\site-packages (from datasets) (3.5.0)\n",
      "Requirement already satisfied: multiprocess<0.70.17 in c:\\users\\josen\\anaconda3\\envs\\tadsml\\lib\\site-packages (from datasets) (0.70.16)\n",
      "Requirement already satisfied: fsspec<=2025.3.0,>=2023.1.0 in c:\\users\\josen\\anaconda3\\envs\\tadsml\\lib\\site-packages (from fsspec[http]<=2025.3.0,>=2023.1.0->datasets) (2025.3.0)\n",
      "Requirement already satisfied: huggingface-hub>=0.24.0 in c:\\users\\josen\\anaconda3\\envs\\tadsml\\lib\\site-packages (from datasets) (0.31.1)\n",
      "Requirement already satisfied: packaging in c:\\users\\josen\\anaconda3\\envs\\tadsml\\lib\\site-packages (from datasets) (24.1)\n",
      "Requirement already satisfied: pyyaml>=5.1 in c:\\users\\josen\\anaconda3\\envs\\tadsml\\lib\\site-packages (from datasets) (6.0.2)\n",
      "Requirement already satisfied: aiohttp!=4.0.0a0,!=4.0.0a1 in c:\\users\\josen\\anaconda3\\envs\\tadsml\\lib\\site-packages (from fsspec[http]<=2025.3.0,>=2023.1.0->datasets) (3.10.5)\n",
      "Requirement already satisfied: typing-extensions>=3.7.4.3 in c:\\users\\josen\\anaconda3\\envs\\tadsml\\lib\\site-packages (from huggingface-hub>=0.24.0->datasets) (4.14.0)\n",
      "Requirement already satisfied: charset-normalizer<4,>=2 in c:\\users\\josen\\anaconda3\\envs\\tadsml\\lib\\site-packages (from requests>=2.32.2->datasets) (3.3.2)\n",
      "Requirement already satisfied: idna<4,>=2.5 in c:\\users\\josen\\anaconda3\\envs\\tadsml\\lib\\site-packages (from requests>=2.32.2->datasets) (3.7)\n",
      "Requirement already satisfied: urllib3<3,>=1.21.1 in c:\\users\\josen\\anaconda3\\envs\\tadsml\\lib\\site-packages (from requests>=2.32.2->datasets) (2.2.3)\n",
      "Requirement already satisfied: certifi>=2017.4.17 in c:\\users\\josen\\anaconda3\\envs\\tadsml\\lib\\site-packages (from requests>=2.32.2->datasets) (2025.4.26)\n",
      "Requirement already satisfied: colorama in c:\\users\\josen\\anaconda3\\envs\\tadsml\\lib\\site-packages (from tqdm>=4.66.3->datasets) (0.4.6)\n",
      "Requirement already satisfied: python-dateutil>=2.8.2 in c:\\users\\josen\\anaconda3\\envs\\tadsml\\lib\\site-packages (from pandas->datasets) (2.9.0.post0)\n",
      "Requirement already satisfied: pytz>=2020.1 in c:\\users\\josen\\anaconda3\\envs\\tadsml\\lib\\site-packages (from pandas->datasets) (2024.1)\n",
      "Requirement already satisfied: tzdata>=2022.7 in c:\\users\\josen\\anaconda3\\envs\\tadsml\\lib\\site-packages (from pandas->datasets) (2023.3)\n",
      "Requirement already satisfied: aiohappyeyeballs>=2.3.0 in c:\\users\\josen\\anaconda3\\envs\\tadsml\\lib\\site-packages (from aiohttp!=4.0.0a0,!=4.0.0a1->fsspec[http]<=2025.3.0,>=2023.1.0->datasets) (2.4.3)\n",
      "Requirement already satisfied: aiosignal>=1.1.2 in c:\\users\\josen\\anaconda3\\envs\\tadsml\\lib\\site-packages (from aiohttp!=4.0.0a0,!=4.0.0a1->fsspec[http]<=2025.3.0,>=2023.1.0->datasets) (1.2.0)\n",
      "Requirement already satisfied: attrs>=17.3.0 in c:\\users\\josen\\anaconda3\\envs\\tadsml\\lib\\site-packages (from aiohttp!=4.0.0a0,!=4.0.0a1->fsspec[http]<=2025.3.0,>=2023.1.0->datasets) (24.2.0)\n",
      "Requirement already satisfied: frozenlist>=1.1.1 in c:\\users\\josen\\anaconda3\\envs\\tadsml\\lib\\site-packages (from aiohttp!=4.0.0a0,!=4.0.0a1->fsspec[http]<=2025.3.0,>=2023.1.0->datasets) (1.5.0)\n",
      "Requirement already satisfied: multidict<7.0,>=4.5 in c:\\users\\josen\\anaconda3\\envs\\tadsml\\lib\\site-packages (from aiohttp!=4.0.0a0,!=4.0.0a1->fsspec[http]<=2025.3.0,>=2023.1.0->datasets) (6.1.0)\n",
      "Requirement already satisfied: yarl<2.0,>=1.0 in c:\\users\\josen\\anaconda3\\envs\\tadsml\\lib\\site-packages (from aiohttp!=4.0.0a0,!=4.0.0a1->fsspec[http]<=2025.3.0,>=2023.1.0->datasets) (1.18.0)\n",
      "Requirement already satisfied: six>=1.5 in c:\\users\\josen\\anaconda3\\envs\\tadsml\\lib\\site-packages (from python-dateutil>=2.8.2->pandas->datasets) (1.16.0)\n",
      "Requirement already satisfied: propcache>=0.2.0 in c:\\users\\josen\\anaconda3\\envs\\tadsml\\lib\\site-packages (from yarl<2.0,>=1.0->aiohttp!=4.0.0a0,!=4.0.0a1->fsspec[http]<=2025.3.0,>=2023.1.0->datasets) (0.2.0)\n",
      "Note: you may need to restart the kernel to use updated packages.\n",
      "Requirement already satisfied: evaluate in c:\\users\\josen\\anaconda3\\envs\\tadsml\\lib\\site-packages (0.4.5)\n",
      "Requirement already satisfied: datasets>=2.0.0 in c:\\users\\josen\\anaconda3\\envs\\tadsml\\lib\\site-packages (from evaluate) (4.0.0)\n",
      "Requirement already satisfied: numpy>=1.17 in c:\\users\\josen\\anaconda3\\envs\\tadsml\\lib\\site-packages (from evaluate) (1.26.4)\n",
      "Requirement already satisfied: dill in c:\\users\\josen\\anaconda3\\envs\\tadsml\\lib\\site-packages (from evaluate) (0.3.8)\n",
      "Requirement already satisfied: pandas in c:\\users\\josen\\anaconda3\\envs\\tadsml\\lib\\site-packages (from evaluate) (2.2.3)\n",
      "Requirement already satisfied: requests>=2.19.0 in c:\\users\\josen\\anaconda3\\envs\\tadsml\\lib\\site-packages (from evaluate) (2.32.3)\n",
      "Requirement already satisfied: tqdm>=4.62.1 in c:\\users\\josen\\anaconda3\\envs\\tadsml\\lib\\site-packages (from evaluate) (4.67.1)\n",
      "Requirement already satisfied: xxhash in c:\\users\\josen\\anaconda3\\envs\\tadsml\\lib\\site-packages (from evaluate) (3.5.0)\n",
      "Requirement already satisfied: multiprocess in c:\\users\\josen\\anaconda3\\envs\\tadsml\\lib\\site-packages (from evaluate) (0.70.16)\n",
      "Requirement already satisfied: fsspec>=2021.05.0 in c:\\users\\josen\\anaconda3\\envs\\tadsml\\lib\\site-packages (from fsspec[http]>=2021.05.0->evaluate) (2025.3.0)\n",
      "Requirement already satisfied: huggingface-hub>=0.7.0 in c:\\users\\josen\\anaconda3\\envs\\tadsml\\lib\\site-packages (from evaluate) (0.31.1)\n",
      "Requirement already satisfied: packaging in c:\\users\\josen\\anaconda3\\envs\\tadsml\\lib\\site-packages (from evaluate) (24.1)\n",
      "Requirement already satisfied: filelock in c:\\users\\josen\\anaconda3\\envs\\tadsml\\lib\\site-packages (from datasets>=2.0.0->evaluate) (3.18.0)\n",
      "Requirement already satisfied: pyarrow>=15.0.0 in c:\\users\\josen\\anaconda3\\envs\\tadsml\\lib\\site-packages (from datasets>=2.0.0->evaluate) (16.1.0)\n",
      "Requirement already satisfied: pyyaml>=5.1 in c:\\users\\josen\\anaconda3\\envs\\tadsml\\lib\\site-packages (from datasets>=2.0.0->evaluate) (6.0.2)\n",
      "Requirement already satisfied: aiohttp!=4.0.0a0,!=4.0.0a1 in c:\\users\\josen\\anaconda3\\envs\\tadsml\\lib\\site-packages (from fsspec[http]>=2021.05.0->evaluate) (3.10.5)\n",
      "Requirement already satisfied: typing-extensions>=3.7.4.3 in c:\\users\\josen\\anaconda3\\envs\\tadsml\\lib\\site-packages (from huggingface-hub>=0.7.0->evaluate) (4.14.0)\n",
      "Requirement already satisfied: charset-normalizer<4,>=2 in c:\\users\\josen\\anaconda3\\envs\\tadsml\\lib\\site-packages (from requests>=2.19.0->evaluate) (3.3.2)\n",
      "Requirement already satisfied: idna<4,>=2.5 in c:\\users\\josen\\anaconda3\\envs\\tadsml\\lib\\site-packages (from requests>=2.19.0->evaluate) (3.7)\n",
      "Requirement already satisfied: urllib3<3,>=1.21.1 in c:\\users\\josen\\anaconda3\\envs\\tadsml\\lib\\site-packages (from requests>=2.19.0->evaluate) (2.2.3)\n",
      "Requirement already satisfied: certifi>=2017.4.17 in c:\\users\\josen\\anaconda3\\envs\\tadsml\\lib\\site-packages (from requests>=2.19.0->evaluate) (2025.4.26)\n",
      "Requirement already satisfied: colorama in c:\\users\\josen\\anaconda3\\envs\\tadsml\\lib\\site-packages (from tqdm>=4.62.1->evaluate) (0.4.6)\n",
      "Requirement already satisfied: python-dateutil>=2.8.2 in c:\\users\\josen\\anaconda3\\envs\\tadsml\\lib\\site-packages (from pandas->evaluate) (2.9.0.post0)\n",
      "Requirement already satisfied: pytz>=2020.1 in c:\\users\\josen\\anaconda3\\envs\\tadsml\\lib\\site-packages (from pandas->evaluate) (2024.1)\n",
      "Requirement already satisfied: tzdata>=2022.7 in c:\\users\\josen\\anaconda3\\envs\\tadsml\\lib\\site-packages (from pandas->evaluate) (2023.3)\n",
      "Requirement already satisfied: aiohappyeyeballs>=2.3.0 in c:\\users\\josen\\anaconda3\\envs\\tadsml\\lib\\site-packages (from aiohttp!=4.0.0a0,!=4.0.0a1->fsspec[http]>=2021.05.0->evaluate) (2.4.3)\n",
      "Requirement already satisfied: aiosignal>=1.1.2 in c:\\users\\josen\\anaconda3\\envs\\tadsml\\lib\\site-packages (from aiohttp!=4.0.0a0,!=4.0.0a1->fsspec[http]>=2021.05.0->evaluate) (1.2.0)\n",
      "Requirement already satisfied: attrs>=17.3.0 in c:\\users\\josen\\anaconda3\\envs\\tadsml\\lib\\site-packages (from aiohttp!=4.0.0a0,!=4.0.0a1->fsspec[http]>=2021.05.0->evaluate) (24.2.0)\n",
      "Requirement already satisfied: frozenlist>=1.1.1 in c:\\users\\josen\\anaconda3\\envs\\tadsml\\lib\\site-packages (from aiohttp!=4.0.0a0,!=4.0.0a1->fsspec[http]>=2021.05.0->evaluate) (1.5.0)\n",
      "Requirement already satisfied: multidict<7.0,>=4.5 in c:\\users\\josen\\anaconda3\\envs\\tadsml\\lib\\site-packages (from aiohttp!=4.0.0a0,!=4.0.0a1->fsspec[http]>=2021.05.0->evaluate) (6.1.0)\n",
      "Requirement already satisfied: yarl<2.0,>=1.0 in c:\\users\\josen\\anaconda3\\envs\\tadsml\\lib\\site-packages (from aiohttp!=4.0.0a0,!=4.0.0a1->fsspec[http]>=2021.05.0->evaluate) (1.18.0)\n",
      "Requirement already satisfied: six>=1.5 in c:\\users\\josen\\anaconda3\\envs\\tadsml\\lib\\site-packages (from python-dateutil>=2.8.2->pandas->evaluate) (1.16.0)\n",
      "Requirement already satisfied: propcache>=0.2.0 in c:\\users\\josen\\anaconda3\\envs\\tadsml\\lib\\site-packages (from yarl<2.0,>=1.0->aiohttp!=4.0.0a0,!=4.0.0a1->fsspec[http]>=2021.05.0->evaluate) (0.2.0)\n",
      "Note: you may need to restart the kernel to use updated packages.\n",
      "Requirement already satisfied: torch in c:\\users\\josen\\anaconda3\\envs\\tadsml\\lib\\site-packages (2.7.0)\n",
      "Requirement already satisfied: filelock in c:\\users\\josen\\anaconda3\\envs\\tadsml\\lib\\site-packages (from torch) (3.18.0)\n",
      "Requirement already satisfied: typing-extensions>=4.10.0 in c:\\users\\josen\\anaconda3\\envs\\tadsml\\lib\\site-packages (from torch) (4.14.0)\n",
      "Requirement already satisfied: sympy>=1.13.3 in c:\\users\\josen\\anaconda3\\envs\\tadsml\\lib\\site-packages (from torch) (1.14.0)\n",
      "Requirement already satisfied: networkx in c:\\users\\josen\\anaconda3\\envs\\tadsml\\lib\\site-packages (from torch) (3.4.2)\n",
      "Requirement already satisfied: jinja2 in c:\\users\\josen\\anaconda3\\envs\\tadsml\\lib\\site-packages (from torch) (3.1.4)\n",
      "Requirement already satisfied: fsspec in c:\\users\\josen\\anaconda3\\envs\\tadsml\\lib\\site-packages (from torch) (2025.3.0)\n",
      "Requirement already satisfied: setuptools in c:\\users\\josen\\anaconda3\\envs\\tadsml\\lib\\site-packages (from torch) (75.1.0)\n",
      "Requirement already satisfied: mpmath<1.4,>=1.1.0 in c:\\users\\josen\\anaconda3\\envs\\tadsml\\lib\\site-packages (from sympy>=1.13.3->torch) (1.3.0)\n",
      "Requirement already satisfied: MarkupSafe>=2.0 in c:\\users\\josen\\anaconda3\\envs\\tadsml\\lib\\site-packages (from jinja2->torch) (2.1.3)\n",
      "Note: you may need to restart the kernel to use updated packages.\n",
      "Requirement already satisfied: tensorflow in c:\\users\\josen\\anaconda3\\envs\\tadsml\\lib\\site-packages (2.19.0)\n",
      "Requirement already satisfied: absl-py>=1.0.0 in c:\\users\\josen\\anaconda3\\envs\\tadsml\\lib\\site-packages (from tensorflow) (2.2.2)\n",
      "Requirement already satisfied: astunparse>=1.6.0 in c:\\users\\josen\\anaconda3\\envs\\tadsml\\lib\\site-packages (from tensorflow) (1.6.3)\n",
      "Requirement already satisfied: flatbuffers>=24.3.25 in c:\\users\\josen\\anaconda3\\envs\\tadsml\\lib\\site-packages (from tensorflow) (25.2.10)\n",
      "Requirement already satisfied: gast!=0.5.0,!=0.5.1,!=0.5.2,>=0.2.1 in c:\\users\\josen\\anaconda3\\envs\\tadsml\\lib\\site-packages (from tensorflow) (0.6.0)\n",
      "Requirement already satisfied: google-pasta>=0.1.1 in c:\\users\\josen\\anaconda3\\envs\\tadsml\\lib\\site-packages (from tensorflow) (0.2.0)\n",
      "Requirement already satisfied: libclang>=13.0.0 in c:\\users\\josen\\anaconda3\\envs\\tadsml\\lib\\site-packages (from tensorflow) (18.1.1)\n",
      "Requirement already satisfied: opt-einsum>=2.3.2 in c:\\users\\josen\\anaconda3\\envs\\tadsml\\lib\\site-packages (from tensorflow) (3.4.0)\n",
      "Requirement already satisfied: packaging in c:\\users\\josen\\anaconda3\\envs\\tadsml\\lib\\site-packages (from tensorflow) (24.1)\n",
      "Requirement already satisfied: protobuf!=4.21.0,!=4.21.1,!=4.21.2,!=4.21.3,!=4.21.4,!=4.21.5,<6.0.0dev,>=3.20.3 in c:\\users\\josen\\anaconda3\\envs\\tadsml\\lib\\site-packages (from tensorflow) (5.29.5)\n",
      "Requirement already satisfied: requests<3,>=2.21.0 in c:\\users\\josen\\anaconda3\\envs\\tadsml\\lib\\site-packages (from tensorflow) (2.32.3)\n",
      "Requirement already satisfied: setuptools in c:\\users\\josen\\anaconda3\\envs\\tadsml\\lib\\site-packages (from tensorflow) (75.1.0)\n",
      "Requirement already satisfied: six>=1.12.0 in c:\\users\\josen\\anaconda3\\envs\\tadsml\\lib\\site-packages (from tensorflow) (1.16.0)\n",
      "Requirement already satisfied: termcolor>=1.1.0 in c:\\users\\josen\\anaconda3\\envs\\tadsml\\lib\\site-packages (from tensorflow) (3.1.0)\n",
      "Requirement already satisfied: typing-extensions>=3.6.6 in c:\\users\\josen\\anaconda3\\envs\\tadsml\\lib\\site-packages (from tensorflow) (4.14.0)\n",
      "Requirement already satisfied: wrapt>=1.11.0 in c:\\users\\josen\\anaconda3\\envs\\tadsml\\lib\\site-packages (from tensorflow) (1.14.1)\n",
      "Requirement already satisfied: grpcio<2.0,>=1.24.3 in c:\\users\\josen\\anaconda3\\envs\\tadsml\\lib\\site-packages (from tensorflow) (1.73.1)\n",
      "Requirement already satisfied: tensorboard~=2.19.0 in c:\\users\\josen\\anaconda3\\envs\\tadsml\\lib\\site-packages (from tensorflow) (2.19.0)\n",
      "Requirement already satisfied: keras>=3.5.0 in c:\\users\\josen\\anaconda3\\envs\\tadsml\\lib\\site-packages (from tensorflow) (3.9.2)\n",
      "Requirement already satisfied: numpy<2.2.0,>=1.26.0 in c:\\users\\josen\\anaconda3\\envs\\tadsml\\lib\\site-packages (from tensorflow) (1.26.4)\n",
      "Requirement already satisfied: h5py>=3.11.0 in c:\\users\\josen\\anaconda3\\envs\\tadsml\\lib\\site-packages (from tensorflow) (3.13.0)\n",
      "Requirement already satisfied: ml-dtypes<1.0.0,>=0.5.1 in c:\\users\\josen\\anaconda3\\envs\\tadsml\\lib\\site-packages (from tensorflow) (0.5.1)\n",
      "Requirement already satisfied: wheel<1.0,>=0.23.0 in c:\\users\\josen\\anaconda3\\envs\\tadsml\\lib\\site-packages (from astunparse>=1.6.0->tensorflow) (0.44.0)\n",
      "Requirement already satisfied: rich in c:\\users\\josen\\anaconda3\\envs\\tadsml\\lib\\site-packages (from keras>=3.5.0->tensorflow) (14.0.0)\n",
      "Requirement already satisfied: namex in c:\\users\\josen\\anaconda3\\envs\\tadsml\\lib\\site-packages (from keras>=3.5.0->tensorflow) (0.0.9)\n",
      "Requirement already satisfied: optree in c:\\users\\josen\\anaconda3\\envs\\tadsml\\lib\\site-packages (from keras>=3.5.0->tensorflow) (0.15.0)\n",
      "Requirement already satisfied: charset-normalizer<4,>=2 in c:\\users\\josen\\anaconda3\\envs\\tadsml\\lib\\site-packages (from requests<3,>=2.21.0->tensorflow) (3.3.2)\n",
      "Requirement already satisfied: idna<4,>=2.5 in c:\\users\\josen\\anaconda3\\envs\\tadsml\\lib\\site-packages (from requests<3,>=2.21.0->tensorflow) (3.7)\n",
      "Requirement already satisfied: urllib3<3,>=1.21.1 in c:\\users\\josen\\anaconda3\\envs\\tadsml\\lib\\site-packages (from requests<3,>=2.21.0->tensorflow) (2.2.3)\n",
      "Requirement already satisfied: certifi>=2017.4.17 in c:\\users\\josen\\anaconda3\\envs\\tadsml\\lib\\site-packages (from requests<3,>=2.21.0->tensorflow) (2025.4.26)\n",
      "Requirement already satisfied: markdown>=2.6.8 in c:\\users\\josen\\anaconda3\\envs\\tadsml\\lib\\site-packages (from tensorboard~=2.19.0->tensorflow) (3.4.1)\n",
      "Requirement already satisfied: tensorboard-data-server<0.8.0,>=0.7.0 in c:\\users\\josen\\anaconda3\\envs\\tadsml\\lib\\site-packages (from tensorboard~=2.19.0->tensorflow) (0.7.2)\n",
      "Requirement already satisfied: werkzeug>=1.0.1 in c:\\users\\josen\\anaconda3\\envs\\tadsml\\lib\\site-packages (from tensorboard~=2.19.0->tensorflow) (3.0.6)\n",
      "Requirement already satisfied: MarkupSafe>=2.1.1 in c:\\users\\josen\\anaconda3\\envs\\tadsml\\lib\\site-packages (from werkzeug>=1.0.1->tensorboard~=2.19.0->tensorflow) (2.1.3)\n",
      "Requirement already satisfied: markdown-it-py>=2.2.0 in c:\\users\\josen\\anaconda3\\envs\\tadsml\\lib\\site-packages (from rich->keras>=3.5.0->tensorflow) (3.0.0)\n",
      "Requirement already satisfied: pygments<3.0.0,>=2.13.0 in c:\\users\\josen\\anaconda3\\envs\\tadsml\\lib\\site-packages (from rich->keras>=3.5.0->tensorflow) (2.18.0)\n",
      "Requirement already satisfied: mdurl~=0.1 in c:\\users\\josen\\anaconda3\\envs\\tadsml\\lib\\site-packages (from markdown-it-py>=2.2.0->rich->keras>=3.5.0->tensorflow) (0.1.2)\n",
      "Note: you may need to restart the kernel to use updated packages.\n"
     ]
    }
   ],
   "source": [
    "%pip install datasets\n",
    "%pip install evaluate\n",
    "%pip install torch\n",
    "%pip install tensorflow"
   ]
  },
  {
   "cell_type": "code",
   "execution_count": 5,
   "id": "e4b41d72",
   "metadata": {},
   "outputs": [
    {
     "name": "stdout",
     "output_type": "stream",
     "text": [
      "WARNING:tensorflow:From c:\\Users\\josen\\anaconda3\\envs\\tadsml\\Lib\\site-packages\\tf_keras\\src\\losses.py:2976: The name tf.losses.sparse_softmax_cross_entropy is deprecated. Please use tf.compat.v1.losses.sparse_softmax_cross_entropy instead.\n",
      "\n"
     ]
    }
   ],
   "source": [
    "from datasets import DatasetDict, Dataset\n",
    "from transformers import AutoTokenizer, AutoModelForSequenceClassification, TrainingArguments, Trainer\n",
    "\n",
    "import evaluate\n",
    "import numpy as np\n",
    "from transformers import DataCollatorWithPadding"
   ]
  },
  {
   "cell_type": "code",
   "execution_count": 6,
   "id": "83cbd22d",
   "metadata": {},
   "outputs": [],
   "source": [
    "from datasets import load_dataset\n",
    "df = load_dataset('shawhin/phishing-site-classification')"
   ]
  },
  {
   "cell_type": "code",
   "execution_count": 7,
   "id": "448792f1",
   "metadata": {},
   "outputs": [
    {
     "name": "stderr",
     "output_type": "stream",
     "text": [
      "Some weights of BertForSequenceClassification were not initialized from the model checkpoint at google-bert/bert-base-uncased and are newly initialized: ['classifier.bias', 'classifier.weight']\n",
      "You should probably TRAIN this model on a down-stream task to be able to use it for predictions and inference.\n"
     ]
    }
   ],
   "source": [
    "#pre-trained model\n",
    "model_path = 'google-bert/bert-base-uncased'\n",
    "\n",
    "#tokenizer\n",
    "tokenizer = AutoTokenizer.from_pretrained(model_path)\n",
    "\n",
    "id2label = {0: 'safe', 1: 'not safe'} #not safe is the positive class\n",
    "label2id = {'safe': 0, 'not safe': 1}\n",
    "\n",
    "model = AutoModelForSequenceClassification.from_pretrained(model_path,\n",
    "                                                           num_labels=2,\n",
    "                                                           id2label=id2label,\n",
    "                                                           label2id=label2id)"
   ]
  },
  {
   "cell_type": "code",
   "execution_count": 8,
   "id": "13874c69",
   "metadata": {},
   "outputs": [],
   "source": [
    "# freeze all base model parameters\n",
    "#for name, param in model.base_model.named_parameters():\n",
    "#    param.requires_grad = False\n",
    "    \n",
    "for name, param in model.base_model.named_parameters():\n",
    "    if 'pooler' in name: #only the final poolers layers\n",
    "        param.requires_grad = True"
   ]
  },
  {
   "cell_type": "code",
   "execution_count": 9,
   "id": "a57ab77b",
   "metadata": {},
   "outputs": [],
   "source": [
    "#define text preprocessing\n",
    "def preprocess_function(examples):\n",
    "    return tokenizer(examples['text'], truncation=True) #truncates to 512 tokens\n",
    "\n",
    "tokenized_data = df.map(preprocess_function, batched=True)"
   ]
  },
  {
   "cell_type": "markdown",
   "id": "eb599190",
   "metadata": {},
   "source": [
    "#### every example in a batch with the same size"
   ]
  },
  {
   "cell_type": "code",
   "execution_count": 10,
   "id": "c9e59289",
   "metadata": {},
   "outputs": [],
   "source": [
    "#create data collator\n",
    "data_collator = DataCollatorWithPadding(tokenizer=tokenizer)"
   ]
  },
  {
   "cell_type": "markdown",
   "id": "5ec5dde9",
   "metadata": {},
   "source": [
    "#### define evaluation metrics"
   ]
  },
  {
   "cell_type": "code",
   "execution_count": 11,
   "id": "2981cdf0",
   "metadata": {},
   "outputs": [],
   "source": [
    "accuracy = evaluate.load('accuracy')\n",
    "auc_score = evaluate.load('roc_auc')\n",
    "\n",
    "def compute_metrics(eval_pred):\n",
    "    #logit       #0,1\n",
    "    predictions, labels = eval_pred\n",
    "    \n",
    "    #apply softmax (from -1 to 1, to 0, 1)\n",
    "    probabilities = np.exp(predictions) / np.exp(predictions).sum(-1, keepdims=True)\n",
    "    \n",
    "    #probabilities of the positive (not safe) class for ROC AUC\n",
    "    positive_class_probs = probabilities[:,1]\n",
    "    \n",
    "    auc = np.round(auc_score.compute(prediction_scores=positive_class_probs,\n",
    "                                     references=labels)['roc_auc'],3) #references ground truth\n",
    "    \n",
    "    #predict most probable class\n",
    "    predicted_classes = np.argmax(predictions, axis=1)\n",
    "    acc = np.round(accuracy.compute(predictions=predicted_classes,\n",
    "                   references=labels)['accuracy'],3)\n",
    "    \n",
    "    return {'accuracy': acc, 'AUC': auc}\n",
    "    \n",
    "    \n",
    "    \n",
    "    \n",
    "    \n",
    "    \n",
    "    "
   ]
  },
  {
   "cell_type": "code",
   "execution_count": 12,
   "id": "2b1bc037",
   "metadata": {},
   "outputs": [
    {
     "name": "stdout",
     "output_type": "stream",
     "text": [
      "Requirement already satisfied: transformers[torch] in c:\\users\\josen\\anaconda3\\envs\\tadsml\\lib\\site-packages (4.51.3)\n",
      "Requirement already satisfied: filelock in c:\\users\\josen\\anaconda3\\envs\\tadsml\\lib\\site-packages (from transformers[torch]) (3.18.0)\n",
      "Requirement already satisfied: huggingface-hub<1.0,>=0.30.0 in c:\\users\\josen\\anaconda3\\envs\\tadsml\\lib\\site-packages (from transformers[torch]) (0.31.1)\n",
      "Requirement already satisfied: numpy>=1.17 in c:\\users\\josen\\anaconda3\\envs\\tadsml\\lib\\site-packages (from transformers[torch]) (1.26.4)\n",
      "Requirement already satisfied: packaging>=20.0 in c:\\users\\josen\\anaconda3\\envs\\tadsml\\lib\\site-packages (from transformers[torch]) (24.1)\n",
      "Requirement already satisfied: pyyaml>=5.1 in c:\\users\\josen\\anaconda3\\envs\\tadsml\\lib\\site-packages (from transformers[torch]) (6.0.2)\n",
      "Requirement already satisfied: regex!=2019.12.17 in c:\\users\\josen\\anaconda3\\envs\\tadsml\\lib\\site-packages (from transformers[torch]) (2024.11.6)\n",
      "Requirement already satisfied: requests in c:\\users\\josen\\anaconda3\\envs\\tadsml\\lib\\site-packages (from transformers[torch]) (2.32.3)\n",
      "Requirement already satisfied: tokenizers<0.22,>=0.21 in c:\\users\\josen\\anaconda3\\envs\\tadsml\\lib\\site-packages (from transformers[torch]) (0.21.1)\n",
      "Requirement already satisfied: safetensors>=0.4.3 in c:\\users\\josen\\anaconda3\\envs\\tadsml\\lib\\site-packages (from transformers[torch]) (0.5.3)\n",
      "Requirement already satisfied: tqdm>=4.27 in c:\\users\\josen\\anaconda3\\envs\\tadsml\\lib\\site-packages (from transformers[torch]) (4.67.1)\n",
      "Requirement already satisfied: torch>=2.0 in c:\\users\\josen\\anaconda3\\envs\\tadsml\\lib\\site-packages (from transformers[torch]) (2.7.0)\n",
      "Requirement already satisfied: accelerate>=0.26.0 in c:\\users\\josen\\anaconda3\\envs\\tadsml\\lib\\site-packages (from transformers[torch]) (1.9.0)\n",
      "Requirement already satisfied: psutil in c:\\users\\josen\\anaconda3\\envs\\tadsml\\lib\\site-packages (from accelerate>=0.26.0->transformers[torch]) (5.9.0)\n",
      "Requirement already satisfied: fsspec>=2023.5.0 in c:\\users\\josen\\anaconda3\\envs\\tadsml\\lib\\site-packages (from huggingface-hub<1.0,>=0.30.0->transformers[torch]) (2025.3.0)\n",
      "Requirement already satisfied: typing-extensions>=3.7.4.3 in c:\\users\\josen\\anaconda3\\envs\\tadsml\\lib\\site-packages (from huggingface-hub<1.0,>=0.30.0->transformers[torch]) (4.14.0)\n",
      "Requirement already satisfied: sympy>=1.13.3 in c:\\users\\josen\\anaconda3\\envs\\tadsml\\lib\\site-packages (from torch>=2.0->transformers[torch]) (1.14.0)\n",
      "Requirement already satisfied: networkx in c:\\users\\josen\\anaconda3\\envs\\tadsml\\lib\\site-packages (from torch>=2.0->transformers[torch]) (3.4.2)\n",
      "Requirement already satisfied: jinja2 in c:\\users\\josen\\anaconda3\\envs\\tadsml\\lib\\site-packages (from torch>=2.0->transformers[torch]) (3.1.4)\n",
      "Requirement already satisfied: setuptools in c:\\users\\josen\\anaconda3\\envs\\tadsml\\lib\\site-packages (from torch>=2.0->transformers[torch]) (75.1.0)\n",
      "Requirement already satisfied: colorama in c:\\users\\josen\\anaconda3\\envs\\tadsml\\lib\\site-packages (from tqdm>=4.27->transformers[torch]) (0.4.6)\n",
      "Requirement already satisfied: charset-normalizer<4,>=2 in c:\\users\\josen\\anaconda3\\envs\\tadsml\\lib\\site-packages (from requests->transformers[torch]) (3.3.2)\n",
      "Requirement already satisfied: idna<4,>=2.5 in c:\\users\\josen\\anaconda3\\envs\\tadsml\\lib\\site-packages (from requests->transformers[torch]) (3.7)\n",
      "Requirement already satisfied: urllib3<3,>=1.21.1 in c:\\users\\josen\\anaconda3\\envs\\tadsml\\lib\\site-packages (from requests->transformers[torch]) (2.2.3)\n",
      "Requirement already satisfied: certifi>=2017.4.17 in c:\\users\\josen\\anaconda3\\envs\\tadsml\\lib\\site-packages (from requests->transformers[torch]) (2025.4.26)\n",
      "Requirement already satisfied: mpmath<1.4,>=1.1.0 in c:\\users\\josen\\anaconda3\\envs\\tadsml\\lib\\site-packages (from sympy>=1.13.3->torch>=2.0->transformers[torch]) (1.3.0)\n",
      "Requirement already satisfied: MarkupSafe>=2.0 in c:\\users\\josen\\anaconda3\\envs\\tadsml\\lib\\site-packages (from jinja2->torch>=2.0->transformers[torch]) (2.1.3)\n",
      "Note: you may need to restart the kernel to use updated packages.\n"
     ]
    }
   ],
   "source": [
    "%pip install transformers[torch]"
   ]
  },
  {
   "cell_type": "code",
   "execution_count": 13,
   "id": "84556710",
   "metadata": {},
   "outputs": [
    {
     "name": "stdout",
     "output_type": "stream",
     "text": [
      "Note: you may need to restart the kernel to use updated packages.\n"
     ]
    }
   ],
   "source": [
    "%pip install accelerate>=0.26.0"
   ]
  },
  {
   "cell_type": "code",
   "execution_count": 14,
   "id": "fd7dd1b8",
   "metadata": {},
   "outputs": [],
   "source": [
    "#learning rate\n",
    "lr = 2e-4\n",
    "batch_size = 8\n",
    "num_epochs = 10\n",
    "\n",
    "training_args = TrainingArguments(\n",
    "    output_dir='bert-phishing-classifier_teacher',\n",
    "    learning_rate=lr,\n",
    "    per_device_train_batch_size=batch_size,\n",
    "    per_device_eval_batch_size=batch_size,\n",
    "    num_train_epochs=num_epochs,\n",
    "    logging_strategy='epoch',\n",
    "    eval_strategy='epoch',\n",
    "    save_strategy='epoch',\n",
    "    load_best_model_at_end=True,\n",
    ")\n",
    "#args.set_lr_scheduler(name=\"cosine\", warmup_ratio=0.05)"
   ]
  },
  {
   "cell_type": "code",
   "execution_count": 15,
   "id": "65f5f7a6",
   "metadata": {},
   "outputs": [
    {
     "name": "stdout",
     "output_type": "stream",
     "text": [
      "Requirement already satisfied: mlflow in c:\\users\\josen\\anaconda3\\envs\\tadsml\\lib\\site-packages (2.18.0)\n",
      "Requirement already satisfied: mlflow-skinny==2.18.0 in c:\\users\\josen\\anaconda3\\envs\\tadsml\\lib\\site-packages (from mlflow) (2.18.0)\n",
      "Requirement already satisfied: Flask<4 in c:\\users\\josen\\anaconda3\\envs\\tadsml\\lib\\site-packages (from mlflow) (3.0.3)\n",
      "Requirement already satisfied: alembic!=1.10.0,<2 in c:\\users\\josen\\anaconda3\\envs\\tadsml\\lib\\site-packages (from mlflow) (1.13.3)\n",
      "Requirement already satisfied: docker<8,>=4.0.0 in c:\\users\\josen\\anaconda3\\envs\\tadsml\\lib\\site-packages (from mlflow) (7.1.0)\n",
      "Requirement already satisfied: graphene<4 in c:\\users\\josen\\anaconda3\\envs\\tadsml\\lib\\site-packages (from mlflow) (3.3)\n",
      "Requirement already satisfied: markdown<4,>=3.3 in c:\\users\\josen\\anaconda3\\envs\\tadsml\\lib\\site-packages (from mlflow) (3.4.1)\n",
      "Requirement already satisfied: matplotlib<4 in c:\\users\\josen\\anaconda3\\envs\\tadsml\\lib\\site-packages (from mlflow) (3.9.2)\n",
      "Requirement already satisfied: numpy<3 in c:\\users\\josen\\anaconda3\\envs\\tadsml\\lib\\site-packages (from mlflow) (1.26.4)\n",
      "Requirement already satisfied: pandas<3 in c:\\users\\josen\\anaconda3\\envs\\tadsml\\lib\\site-packages (from mlflow) (2.2.3)\n",
      "Requirement already satisfied: pyarrow<19,>=4.0.0 in c:\\users\\josen\\anaconda3\\envs\\tadsml\\lib\\site-packages (from mlflow) (16.1.0)\n",
      "Requirement already satisfied: scikit-learn<2 in c:\\users\\josen\\anaconda3\\envs\\tadsml\\lib\\site-packages (from mlflow) (1.3.2)\n",
      "Requirement already satisfied: scipy<2 in c:\\users\\josen\\anaconda3\\envs\\tadsml\\lib\\site-packages (from mlflow) (1.14.1)\n",
      "Requirement already satisfied: sqlalchemy<3,>=1.4.0 in c:\\users\\josen\\anaconda3\\envs\\tadsml\\lib\\site-packages (from mlflow) (2.0.34)\n",
      "Requirement already satisfied: Jinja2<4,>=3.0 in c:\\users\\josen\\anaconda3\\envs\\tadsml\\lib\\site-packages (from mlflow) (3.1.4)\n",
      "Requirement already satisfied: waitress<4 in c:\\users\\josen\\anaconda3\\envs\\tadsml\\lib\\site-packages (from mlflow) (2.0.0)\n",
      "Requirement already satisfied: cachetools<6,>=5.0.0 in c:\\users\\josen\\anaconda3\\envs\\tadsml\\lib\\site-packages (from mlflow-skinny==2.18.0->mlflow) (5.3.3)\n",
      "Requirement already satisfied: click<9,>=7.0 in c:\\users\\josen\\anaconda3\\envs\\tadsml\\lib\\site-packages (from mlflow-skinny==2.18.0->mlflow) (8.1.7)\n",
      "Requirement already satisfied: cloudpickle<4 in c:\\users\\josen\\anaconda3\\envs\\tadsml\\lib\\site-packages (from mlflow-skinny==2.18.0->mlflow) (3.0.0)\n",
      "Requirement already satisfied: databricks-sdk<1,>=0.20.0 in c:\\users\\josen\\anaconda3\\envs\\tadsml\\lib\\site-packages (from mlflow-skinny==2.18.0->mlflow) (0.33.0)\n",
      "Requirement already satisfied: gitpython<4,>=3.1.9 in c:\\users\\josen\\anaconda3\\envs\\tadsml\\lib\\site-packages (from mlflow-skinny==2.18.0->mlflow) (3.1.43)\n",
      "Requirement already satisfied: importlib-metadata!=4.7.0,<9,>=3.7.0 in c:\\users\\josen\\anaconda3\\envs\\tadsml\\lib\\site-packages (from mlflow-skinny==2.18.0->mlflow) (7.0.1)\n",
      "Requirement already satisfied: opentelemetry-api<3,>=1.9.0 in c:\\users\\josen\\anaconda3\\envs\\tadsml\\lib\\site-packages (from mlflow-skinny==2.18.0->mlflow) (1.26.0)\n",
      "Requirement already satisfied: opentelemetry-sdk<3,>=1.9.0 in c:\\users\\josen\\anaconda3\\envs\\tadsml\\lib\\site-packages (from mlflow-skinny==2.18.0->mlflow) (1.26.0)\n",
      "Requirement already satisfied: packaging<25 in c:\\users\\josen\\anaconda3\\envs\\tadsml\\lib\\site-packages (from mlflow-skinny==2.18.0->mlflow) (24.1)\n",
      "Requirement already satisfied: protobuf<6,>=3.12.0 in c:\\users\\josen\\anaconda3\\envs\\tadsml\\lib\\site-packages (from mlflow-skinny==2.18.0->mlflow) (5.29.5)\n",
      "Requirement already satisfied: pyyaml<7,>=5.1 in c:\\users\\josen\\anaconda3\\envs\\tadsml\\lib\\site-packages (from mlflow-skinny==2.18.0->mlflow) (6.0.2)\n",
      "Requirement already satisfied: requests<3,>=2.17.3 in c:\\users\\josen\\anaconda3\\envs\\tadsml\\lib\\site-packages (from mlflow-skinny==2.18.0->mlflow) (2.32.3)\n",
      "Requirement already satisfied: sqlparse<1,>=0.4.0 in c:\\users\\josen\\anaconda3\\envs\\tadsml\\lib\\site-packages (from mlflow-skinny==2.18.0->mlflow) (0.4.4)\n",
      "Requirement already satisfied: Mako in c:\\users\\josen\\anaconda3\\envs\\tadsml\\lib\\site-packages (from alembic!=1.10.0,<2->mlflow) (1.2.3)\n",
      "Requirement already satisfied: typing-extensions>=4 in c:\\users\\josen\\anaconda3\\envs\\tadsml\\lib\\site-packages (from alembic!=1.10.0,<2->mlflow) (4.14.0)\n",
      "Requirement already satisfied: pywin32>=304 in c:\\users\\josen\\anaconda3\\envs\\tadsml\\lib\\site-packages (from docker<8,>=4.0.0->mlflow) (305.1)\n",
      "Requirement already satisfied: urllib3>=1.26.0 in c:\\users\\josen\\anaconda3\\envs\\tadsml\\lib\\site-packages (from docker<8,>=4.0.0->mlflow) (2.2.3)\n",
      "Requirement already satisfied: Werkzeug>=3.0.0 in c:\\users\\josen\\anaconda3\\envs\\tadsml\\lib\\site-packages (from Flask<4->mlflow) (3.0.6)\n",
      "Requirement already satisfied: itsdangerous>=2.1.2 in c:\\users\\josen\\anaconda3\\envs\\tadsml\\lib\\site-packages (from Flask<4->mlflow) (2.2.0)\n",
      "Requirement already satisfied: blinker>=1.6.2 in c:\\users\\josen\\anaconda3\\envs\\tadsml\\lib\\site-packages (from Flask<4->mlflow) (1.6.2)\n",
      "Requirement already satisfied: graphql-core<3.3,>=3.1 in c:\\users\\josen\\anaconda3\\envs\\tadsml\\lib\\site-packages (from graphene<4->mlflow) (3.2.3)\n",
      "Requirement already satisfied: graphql-relay<3.3,>=3.1 in c:\\users\\josen\\anaconda3\\envs\\tadsml\\lib\\site-packages (from graphene<4->mlflow) (3.2.0)\n",
      "Requirement already satisfied: aniso8601<10,>=8 in c:\\users\\josen\\anaconda3\\envs\\tadsml\\lib\\site-packages (from graphene<4->mlflow) (9.0.1)\n",
      "Requirement already satisfied: MarkupSafe>=2.0 in c:\\users\\josen\\anaconda3\\envs\\tadsml\\lib\\site-packages (from Jinja2<4,>=3.0->mlflow) (2.1.3)\n",
      "Requirement already satisfied: contourpy>=1.0.1 in c:\\users\\josen\\anaconda3\\envs\\tadsml\\lib\\site-packages (from matplotlib<4->mlflow) (1.3.1)\n",
      "Requirement already satisfied: cycler>=0.10 in c:\\users\\josen\\anaconda3\\envs\\tadsml\\lib\\site-packages (from matplotlib<4->mlflow) (0.11.0)\n",
      "Requirement already satisfied: fonttools>=4.22.0 in c:\\users\\josen\\anaconda3\\envs\\tadsml\\lib\\site-packages (from matplotlib<4->mlflow) (4.51.0)\n",
      "Requirement already satisfied: kiwisolver>=1.3.1 in c:\\users\\josen\\anaconda3\\envs\\tadsml\\lib\\site-packages (from matplotlib<4->mlflow) (1.4.4)\n",
      "Requirement already satisfied: pillow>=8 in c:\\users\\josen\\anaconda3\\envs\\tadsml\\lib\\site-packages (from matplotlib<4->mlflow) (11.0.0)\n",
      "Requirement already satisfied: pyparsing>=2.3.1 in c:\\users\\josen\\anaconda3\\envs\\tadsml\\lib\\site-packages (from matplotlib<4->mlflow) (3.2.0)\n",
      "Requirement already satisfied: python-dateutil>=2.7 in c:\\users\\josen\\anaconda3\\envs\\tadsml\\lib\\site-packages (from matplotlib<4->mlflow) (2.9.0.post0)\n",
      "Requirement already satisfied: pytz>=2020.1 in c:\\users\\josen\\anaconda3\\envs\\tadsml\\lib\\site-packages (from pandas<3->mlflow) (2024.1)\n",
      "Requirement already satisfied: tzdata>=2022.7 in c:\\users\\josen\\anaconda3\\envs\\tadsml\\lib\\site-packages (from pandas<3->mlflow) (2023.3)\n",
      "Requirement already satisfied: joblib>=1.1.1 in c:\\users\\josen\\anaconda3\\envs\\tadsml\\lib\\site-packages (from scikit-learn<2->mlflow) (1.4.2)\n",
      "Requirement already satisfied: threadpoolctl>=2.0.0 in c:\\users\\josen\\anaconda3\\envs\\tadsml\\lib\\site-packages (from scikit-learn<2->mlflow) (3.5.0)\n",
      "Requirement already satisfied: greenlet!=0.4.17 in c:\\users\\josen\\anaconda3\\envs\\tadsml\\lib\\site-packages (from sqlalchemy<3,>=1.4.0->mlflow) (3.0.1)\n",
      "Requirement already satisfied: colorama in c:\\users\\josen\\anaconda3\\envs\\tadsml\\lib\\site-packages (from click<9,>=7.0->mlflow-skinny==2.18.0->mlflow) (0.4.6)\n",
      "Requirement already satisfied: google-auth~=2.0 in c:\\users\\josen\\anaconda3\\envs\\tadsml\\lib\\site-packages (from databricks-sdk<1,>=0.20.0->mlflow-skinny==2.18.0->mlflow) (2.29.0)\n",
      "Requirement already satisfied: gitdb<5,>=4.0.1 in c:\\users\\josen\\anaconda3\\envs\\tadsml\\lib\\site-packages (from gitpython<4,>=3.1.9->mlflow-skinny==2.18.0->mlflow) (4.0.7)\n",
      "Requirement already satisfied: zipp>=0.5 in c:\\users\\josen\\anaconda3\\envs\\tadsml\\lib\\site-packages (from importlib-metadata!=4.7.0,<9,>=3.7.0->mlflow-skinny==2.18.0->mlflow) (3.21.0)\n",
      "Requirement already satisfied: deprecated>=1.2.6 in c:\\users\\josen\\anaconda3\\envs\\tadsml\\lib\\site-packages (from opentelemetry-api<3,>=1.9.0->mlflow-skinny==2.18.0->mlflow) (1.2.13)\n",
      "Requirement already satisfied: opentelemetry-semantic-conventions==0.47b0 in c:\\users\\josen\\anaconda3\\envs\\tadsml\\lib\\site-packages (from opentelemetry-sdk<3,>=1.9.0->mlflow-skinny==2.18.0->mlflow) (0.47b0)\n",
      "Requirement already satisfied: six>=1.5 in c:\\users\\josen\\anaconda3\\envs\\tadsml\\lib\\site-packages (from python-dateutil>=2.7->matplotlib<4->mlflow) (1.16.0)\n",
      "Requirement already satisfied: charset-normalizer<4,>=2 in c:\\users\\josen\\anaconda3\\envs\\tadsml\\lib\\site-packages (from requests<3,>=2.17.3->mlflow-skinny==2.18.0->mlflow) (3.3.2)\n",
      "Requirement already satisfied: idna<4,>=2.5 in c:\\users\\josen\\anaconda3\\envs\\tadsml\\lib\\site-packages (from requests<3,>=2.17.3->mlflow-skinny==2.18.0->mlflow) (3.7)\n",
      "Requirement already satisfied: certifi>=2017.4.17 in c:\\users\\josen\\anaconda3\\envs\\tadsml\\lib\\site-packages (from requests<3,>=2.17.3->mlflow-skinny==2.18.0->mlflow) (2025.4.26)\n",
      "Requirement already satisfied: wrapt<2,>=1.10 in c:\\users\\josen\\anaconda3\\envs\\tadsml\\lib\\site-packages (from deprecated>=1.2.6->opentelemetry-api<3,>=1.9.0->mlflow-skinny==2.18.0->mlflow) (1.14.1)\n",
      "Requirement already satisfied: smmap<5,>=3.0.1 in c:\\users\\josen\\anaconda3\\envs\\tadsml\\lib\\site-packages (from gitdb<5,>=4.0.1->gitpython<4,>=3.1.9->mlflow-skinny==2.18.0->mlflow) (4.0.0)\n",
      "Requirement already satisfied: pyasn1-modules>=0.2.1 in c:\\users\\josen\\anaconda3\\envs\\tadsml\\lib\\site-packages (from google-auth~=2.0->databricks-sdk<1,>=0.20.0->mlflow-skinny==2.18.0->mlflow) (0.2.8)\n",
      "Requirement already satisfied: rsa<5,>=3.1.4 in c:\\users\\josen\\anaconda3\\envs\\tadsml\\lib\\site-packages (from google-auth~=2.0->databricks-sdk<1,>=0.20.0->mlflow-skinny==2.18.0->mlflow) (4.7.2)\n",
      "Requirement already satisfied: pyasn1<0.5.0,>=0.4.6 in c:\\users\\josen\\anaconda3\\envs\\tadsml\\lib\\site-packages (from pyasn1-modules>=0.2.1->google-auth~=2.0->databricks-sdk<1,>=0.20.0->mlflow-skinny==2.18.0->mlflow) (0.4.8)\n",
      "Note: you may need to restart the kernel to use updated packages.\n"
     ]
    }
   ],
   "source": [
    "%pip install mlflow"
   ]
  },
  {
   "cell_type": "markdown",
   "id": "1a454983",
   "metadata": {},
   "source": [
    "#### fine-tune the MODEL"
   ]
  },
  {
   "cell_type": "markdown",
   "id": "40357742",
   "metadata": {},
   "source": [
    "#### validation data (not seen during training)"
   ]
  },
  {
   "cell_type": "code",
   "execution_count": 16,
   "id": "69161e6e",
   "metadata": {},
   "outputs": [
    {
     "name": "stderr",
     "output_type": "stream",
     "text": [
      "C:\\Users\\josen\\AppData\\Local\\Temp\\ipykernel_1212\\2181682343.py:1: FutureWarning: `tokenizer` is deprecated and will be removed in version 5.0.0 for `Trainer.__init__`. Use `processing_class` instead.\n",
      "  trainer = Trainer(\n",
      "c:\\Users\\josen\\anaconda3\\envs\\tadsml\\Lib\\site-packages\\torch\\utils\\data\\dataloader.py:665: UserWarning: 'pin_memory' argument is set as true but no accelerator is found, then device pinned memory won't be used.\n",
      "  warnings.warn(warn_msg)\n"
     ]
    },
    {
     "data": {
      "text/html": [
       "\n",
       "    <div>\n",
       "      \n",
       "      <progress value='2630' max='2630' style='width:300px; height:20px; vertical-align: middle;'></progress>\n",
       "      [2630/2630 4:14:12, Epoch 10/10]\n",
       "    </div>\n",
       "    <table border=\"1\" class=\"dataframe\">\n",
       "  <thead>\n",
       " <tr style=\"text-align: left;\">\n",
       "      <th>Epoch</th>\n",
       "      <th>Training Loss</th>\n",
       "      <th>Validation Loss</th>\n",
       "      <th>Accuracy</th>\n",
       "      <th>Auc</th>\n",
       "    </tr>\n",
       "  </thead>\n",
       "  <tbody>\n",
       "    <tr>\n",
       "      <td>1</td>\n",
       "      <td>0.717900</td>\n",
       "      <td>0.701961</td>\n",
       "      <td>0.509000</td>\n",
       "      <td>0.754000</td>\n",
       "    </tr>\n",
       "    <tr>\n",
       "      <td>2</td>\n",
       "      <td>0.716100</td>\n",
       "      <td>0.722116</td>\n",
       "      <td>0.491000</td>\n",
       "      <td>0.748000</td>\n",
       "    </tr>\n",
       "    <tr>\n",
       "      <td>3</td>\n",
       "      <td>0.713400</td>\n",
       "      <td>0.719389</td>\n",
       "      <td>0.509000</td>\n",
       "      <td>0.730000</td>\n",
       "    </tr>\n",
       "    <tr>\n",
       "      <td>4</td>\n",
       "      <td>0.714200</td>\n",
       "      <td>0.702855</td>\n",
       "      <td>0.491000</td>\n",
       "      <td>0.738000</td>\n",
       "    </tr>\n",
       "    <tr>\n",
       "      <td>5</td>\n",
       "      <td>0.701300</td>\n",
       "      <td>0.701998</td>\n",
       "      <td>0.491000</td>\n",
       "      <td>0.276000</td>\n",
       "    </tr>\n",
       "    <tr>\n",
       "      <td>6</td>\n",
       "      <td>0.702200</td>\n",
       "      <td>0.699196</td>\n",
       "      <td>0.491000</td>\n",
       "      <td>0.461000</td>\n",
       "    </tr>\n",
       "    <tr>\n",
       "      <td>7</td>\n",
       "      <td>0.705000</td>\n",
       "      <td>0.697413</td>\n",
       "      <td>0.491000</td>\n",
       "      <td>0.365000</td>\n",
       "    </tr>\n",
       "    <tr>\n",
       "      <td>8</td>\n",
       "      <td>0.700700</td>\n",
       "      <td>0.693127</td>\n",
       "      <td>0.509000</td>\n",
       "      <td>0.739000</td>\n",
       "    </tr>\n",
       "    <tr>\n",
       "      <td>9</td>\n",
       "      <td>0.698700</td>\n",
       "      <td>0.693327</td>\n",
       "      <td>0.509000</td>\n",
       "      <td>0.705000</td>\n",
       "    </tr>\n",
       "    <tr>\n",
       "      <td>10</td>\n",
       "      <td>0.696600</td>\n",
       "      <td>0.693925</td>\n",
       "      <td>0.491000</td>\n",
       "      <td>0.696000</td>\n",
       "    </tr>\n",
       "  </tbody>\n",
       "</table><p>"
      ],
      "text/plain": [
       "<IPython.core.display.HTML object>"
      ]
     },
     "metadata": {},
     "output_type": "display_data"
    },
    {
     "name": "stderr",
     "output_type": "stream",
     "text": [
      "c:\\Users\\josen\\anaconda3\\envs\\tadsml\\Lib\\site-packages\\torch\\utils\\data\\dataloader.py:665: UserWarning: 'pin_memory' argument is set as true but no accelerator is found, then device pinned memory won't be used.\n",
      "  warnings.warn(warn_msg)\n",
      "c:\\Users\\josen\\anaconda3\\envs\\tadsml\\Lib\\site-packages\\torch\\utils\\data\\dataloader.py:665: UserWarning: 'pin_memory' argument is set as true but no accelerator is found, then device pinned memory won't be used.\n",
      "  warnings.warn(warn_msg)\n",
      "c:\\Users\\josen\\anaconda3\\envs\\tadsml\\Lib\\site-packages\\torch\\utils\\data\\dataloader.py:665: UserWarning: 'pin_memory' argument is set as true but no accelerator is found, then device pinned memory won't be used.\n",
      "  warnings.warn(warn_msg)\n",
      "c:\\Users\\josen\\anaconda3\\envs\\tadsml\\Lib\\site-packages\\torch\\utils\\data\\dataloader.py:665: UserWarning: 'pin_memory' argument is set as true but no accelerator is found, then device pinned memory won't be used.\n",
      "  warnings.warn(warn_msg)\n",
      "c:\\Users\\josen\\anaconda3\\envs\\tadsml\\Lib\\site-packages\\torch\\utils\\data\\dataloader.py:665: UserWarning: 'pin_memory' argument is set as true but no accelerator is found, then device pinned memory won't be used.\n",
      "  warnings.warn(warn_msg)\n",
      "c:\\Users\\josen\\anaconda3\\envs\\tadsml\\Lib\\site-packages\\torch\\utils\\data\\dataloader.py:665: UserWarning: 'pin_memory' argument is set as true but no accelerator is found, then device pinned memory won't be used.\n",
      "  warnings.warn(warn_msg)\n",
      "c:\\Users\\josen\\anaconda3\\envs\\tadsml\\Lib\\site-packages\\torch\\utils\\data\\dataloader.py:665: UserWarning: 'pin_memory' argument is set as true but no accelerator is found, then device pinned memory won't be used.\n",
      "  warnings.warn(warn_msg)\n",
      "c:\\Users\\josen\\anaconda3\\envs\\tadsml\\Lib\\site-packages\\torch\\utils\\data\\dataloader.py:665: UserWarning: 'pin_memory' argument is set as true but no accelerator is found, then device pinned memory won't be used.\n",
      "  warnings.warn(warn_msg)\n",
      "c:\\Users\\josen\\anaconda3\\envs\\tadsml\\Lib\\site-packages\\torch\\utils\\data\\dataloader.py:665: UserWarning: 'pin_memory' argument is set as true but no accelerator is found, then device pinned memory won't be used.\n",
      "  warnings.warn(warn_msg)\n"
     ]
    },
    {
     "name": "stdout",
     "output_type": "stream",
     "text": [
      "🏃 View run bert-phishing-classifier_teacher at: http://localhost:5000/#/experiments/0/runs/dbf7a0f02a694779ae0e46e0fb7defc6\n",
      "🧪 View experiment at: http://localhost:5000/#/experiments/0\n"
     ]
    },
    {
     "name": "stderr",
     "output_type": "stream",
     "text": [
      "c:\\Users\\josen\\anaconda3\\envs\\tadsml\\Lib\\site-packages\\torch\\utils\\data\\dataloader.py:665: UserWarning: 'pin_memory' argument is set as true but no accelerator is found, then device pinned memory won't be used.\n",
      "  warnings.warn(warn_msg)\n"
     ]
    },
    {
     "data": {
      "text/html": [],
      "text/plain": [
       "<IPython.core.display.HTML object>"
      ]
     },
     "metadata": {},
     "output_type": "display_data"
    },
    {
     "name": "stdout",
     "output_type": "stream",
     "text": [
      "{'accuracy': 0.5, 'AUC': 0.692}\n"
     ]
    }
   ],
   "source": [
    "trainer = Trainer(\n",
    "    model=model,\n",
    "    args=training_args,\n",
    "    train_dataset=tokenized_data['train'],\n",
    "    eval_dataset=tokenized_data['test'],\n",
    "    tokenizer=tokenizer,\n",
    "    data_collator=data_collator,\n",
    "    compute_metrics=compute_metrics,\n",
    ")\n",
    "\n",
    "\n",
    "trainer.train()\n",
    "predictions = trainer.predict(tokenized_data['validation'])\n",
    "logits = predictions.predictions\n",
    "labels = predictions.label_ids\n",
    "\n",
    "metrics = compute_metrics((logits, labels))\n",
    "print(metrics)"
   ]
  }
 ],
 "metadata": {
  "kernelspec": {
   "display_name": "tadsml",
   "language": "python",
   "name": "python3"
  },
  "language_info": {
   "codemirror_mode": {
    "name": "ipython",
    "version": 3
   },
   "file_extension": ".py",
   "mimetype": "text/x-python",
   "name": "python",
   "nbconvert_exporter": "python",
   "pygments_lexer": "ipython3",
   "version": "3.12.7"
  }
 },
 "nbformat": 4,
 "nbformat_minor": 5
}
